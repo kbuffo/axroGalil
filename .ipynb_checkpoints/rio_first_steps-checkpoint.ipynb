{
 "cells": [
  {
   "cell_type": "code",
   "execution_count": 14,
   "id": "8e4e4c01",
   "metadata": {},
   "outputs": [],
   "source": [
    "import sys\n",
    "import string\n",
    "import gclib"
   ]
  },
  {
   "cell_type": "code",
   "execution_count": 15,
   "id": "9cb6a24e",
   "metadata": {},
   "outputs": [],
   "source": [
    "c1 = gclib.py()\n",
    "c2 = gclib.py()"
   ]
  },
  {
   "cell_type": "code",
   "execution_count": 16,
   "id": "bb454ff4",
   "metadata": {},
   "outputs": [],
   "source": [
    "c1.GOpen('192.168.42.100 -s ALL') # open connection to c1\n",
    "c2.GOpen('192.168.42.200 -s ALL') # open connection to c2"
   ]
  },
  {
   "cell_type": "code",
   "execution_count": 17,
   "id": "4ec89144",
   "metadata": {},
   "outputs": [
    {
     "data": {
      "text/plain": [
       "''"
      ]
     },
     "execution_count": 17,
     "metadata": {},
     "output_type": "execute_result"
    }
   ],
   "source": [
    "c1.GCommand('DQ0,2') #Set analog output 0 of the first rio voltage range to 0-10V\n",
    "c1.GCommand('DQ0,2') #Set analog output 0 of the second rio voltage range to 0-10V"
   ]
  },
  {
   "cell_type": "code",
   "execution_count": 18,
   "id": "14b8ab52",
   "metadata": {},
   "outputs": [
    {
     "data": {
      "text/plain": [
       "''"
      ]
     },
     "execution_count": 18,
     "metadata": {},
     "output_type": "execute_result"
    }
   ],
   "source": [
    "c1.GCommand('AO0,5') # Set analog output 0 of the first rio to 5V\n",
    "c2.GCommand('AO0,7.5') #Set analog output 0 of the second rio to 7V"
   ]
  },
  {
   "cell_type": "code",
   "execution_count": 19,
   "id": "b77786f2",
   "metadata": {},
   "outputs": [
    {
     "data": {
      "text/plain": [
       "''"
      ]
     },
     "execution_count": 19,
     "metadata": {},
     "output_type": "execute_result"
    }
   ],
   "source": [
    "c1.GCommand('AO0,0') # Set analog output 0 of the first rio to 0V\n",
    "c2.GCommand('AO0,0') #Set analog output 0 of the second rio to 0V"
   ]
  },
  {
   "cell_type": "code",
   "execution_count": 20,
   "id": "58eef273",
   "metadata": {},
   "outputs": [],
   "source": [
    "c1.GClose() #don't forget to close connections!\n",
    "c1.GClose() #don't forget to close connections!"
   ]
  }
 ],
 "metadata": {
  "kernelspec": {
   "display_name": "Python 3 (ipykernel)",
   "language": "python",
   "name": "python3"
  },
  "language_info": {
   "codemirror_mode": {
    "name": "ipython",
    "version": 3
   },
   "file_extension": ".py",
   "mimetype": "text/x-python",
   "name": "python",
   "nbconvert_exporter": "python",
   "pygments_lexer": "ipython3",
   "version": "3.8.16"
  }
 },
 "nbformat": 4,
 "nbformat_minor": 5
}
